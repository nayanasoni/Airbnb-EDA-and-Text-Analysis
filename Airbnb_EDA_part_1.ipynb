{
  "cells": [
    {
      "cell_type": "code",
      "execution_count": null,
      "metadata": {
        "id": "707SCMOk7flb"
      },
      "outputs": [],
      "source": [
        "# Importing Libraries\n",
        "import pandas as pd\n",
        "import numpy as np\n",
        "import seaborn as sns\n",
        "import matplotlib.pyplot as plt\n",
        "from sklearn.cluster import KMeans\n",
        "from sklearn.preprocessing import StandardScaler\n",
        "import re\n",
        "import ast"
      ]
    },
    {
      "cell_type": "code",
      "source": [
        "from google.colab import drive\n",
        "drive.mount('/content/drive')"
      ],
      "metadata": {
        "id": "gDqJXwyQrlH4"
      },
      "execution_count": null,
      "outputs": []
    },
    {
      "cell_type": "code",
      "execution_count": null,
      "metadata": {
        "id": "ivVt7yLz94bq"
      },
      "outputs": [],
      "source": [
        "# Read dataset\n",
        "pd.set_option('display.max_columns', None)\n",
        "\n",
        "listing = pd.read_csv('/content/listings.csv')"
      ]
    },
    {
      "cell_type": "code",
      "execution_count": null,
      "metadata": {
        "id": "54bRYgDc-FZL"
      },
      "outputs": [],
      "source": [
        "# 1. Exploratory Data Analysis (EDA)\n",
        "print(\"EDA - Basic Info\")\n",
        "print(listing.info())"
      ]
    },
    {
      "cell_type": "code",
      "execution_count": null,
      "metadata": {
        "id": "E94RY0u6RX7O"
      },
      "outputs": [],
      "source": [
        "\n",
        "print(f'This dataset has {listing.shape} rows and columns respectively.')"
      ]
    },
    {
      "cell_type": "code",
      "execution_count": null,
      "metadata": {
        "id": "LvtPHE6LCLOO"
      },
      "outputs": [],
      "source": [
        "# Drop rows missing price\n",
        "listing.dropna(subset = ['price'],inplace=True)"
      ]
    },
    {
      "cell_type": "code",
      "execution_count": null,
      "metadata": {
        "id": "t5B4gN7q-L7Y"
      },
      "outputs": [],
      "source": [
        "# Check for missing values\n",
        "print(\"Missing Values:\")\n",
        "print(listing.isnull().sum())\n"
      ]
    },
    {
      "cell_type": "code",
      "execution_count": null,
      "metadata": {
        "id": "zI_e8EYI-eLw"
      },
      "outputs": [],
      "source": [
        "# Drop columns with more than 20% of values missing\n",
        "\n",
        "def drop_high_missing(df, threshold=20):\n",
        "\n",
        "    missing_percentage = df.isnull().sum() / df.shape[0] * 100\n",
        "    return missing_percentage[missing_percentage>20].index\n",
        "\n",
        "missing_20_per = drop_high_missing(listing,threshold=20)\n",
        "print(missing_20_per)\n",
        "\n",
        "listing_updated = listing.drop(columns=missing_20_per, axis =1)"
      ]
    },
    {
      "cell_type": "code",
      "execution_count": null,
      "metadata": {
        "id": "N2fpE6K7_z93"
      },
      "outputs": [],
      "source": [
        "listing_updated.columns.tolist()"
      ]
    },
    {
      "cell_type": "code",
      "execution_count": null,
      "metadata": {
        "id": "ZC_Dv9RFAODh"
      },
      "outputs": [],
      "source": [
        "# Since there are too many variables, removing some of them which might not be relevant to the data\n",
        "\n",
        "columns_to_remove = ['listing_url','scrape_id','last_scraped','source','picture_url','host_url','host_has_profile_pic',\n",
        " 'host_name','host_picture_url','host_thumbnail_url','calendar_last_scraped','minimum_nights','maximum_nights',\n",
        " 'minimum_minimum_nights','maximum_minimum_nights','minimum_maximum_nights','maximum_maximum_nights',\n",
        " 'minimum_nights_avg_ntm','maximum_nights_avg_ntm',]\n",
        "listing_updated.drop(columns= columns_to_remove,axis = 1, inplace = True)"
      ]
    },
    {
      "cell_type": "code",
      "execution_count": null,
      "metadata": {
        "id": "vOCx-m-lT3dF"
      },
      "outputs": [],
      "source": [
        "print(f'Updated dataset has {listing_updated.shape} rows and columns respectively.')"
      ]
    },
    {
      "cell_type": "code",
      "execution_count": null,
      "metadata": {
        "id": "jQwykPVvBM5U"
      },
      "outputs": [],
      "source": [
        "# Looking at the kind of data\n",
        "\n",
        "listing_updated.head()"
      ]
    },
    {
      "cell_type": "code",
      "execution_count": null,
      "metadata": {
        "id": "H1UT9ajHHjna"
      },
      "outputs": [],
      "source": [
        "# Removing text columns, which will be dealt with in part 2\n",
        "\n",
        "text_columns = ['id','name','description','amenities']\n"
      ]
    },
    {
      "cell_type": "code",
      "execution_count": null,
      "metadata": {
        "id": "1ZgqMTL3IHOT"
      },
      "outputs": [],
      "source": [
        "listing_updated.drop(columns=text_columns,axis =1 , inplace= True)"
      ]
    },
    {
      "cell_type": "code",
      "execution_count": null,
      "metadata": {
        "id": "nCMM5DQnI6IY"
      },
      "outputs": [],
      "source": [
        "# Converting true or false value to 0 and 1\n",
        "def process_boolean_columns(df, columns):\n",
        "    df[columns] = df[columns].replace({'t': 1, 'f': 0}).fillna(2)\n",
        "    return df\n",
        "\n",
        "listing_updated = process_boolean_columns(listing_updated, ['host_is_superhost', 'host_identity_verified', 'instant_bookable','has_availability'])"
      ]
    },
    {
      "cell_type": "code",
      "execution_count": null,
      "metadata": {
        "id": "bVbomEQ3KmS_"
      },
      "outputs": [],
      "source": [
        "# Removing % from columns to convert it to a number\n",
        "def remove_percentage_sign(df, columns):\n",
        "    for col in columns:\n",
        "        df[col] = df[col].str.rstrip('%').astype(float)\n",
        "    return df\n",
        "listing_updated = remove_percentage_sign(listing_updated,['host_response_rate',\t'host_acceptance_rate'])"
      ]
    },
    {
      "cell_type": "code",
      "execution_count": null,
      "metadata": {
        "id": "PtAKz_N4LDu9"
      },
      "outputs": [],
      "source": [
        "# Cleaning price to convert it to a number\n",
        "\n",
        "listing_updated['price'] = listing_updated['price'].replace('[\\$,]', '', regex=True).astype(float)"
      ]
    },
    {
      "cell_type": "code",
      "execution_count": null,
      "metadata": {
        "id": "Jdfx-1NfLjuw"
      },
      "outputs": [],
      "source": [
        "# Looking into price value counts to identify outliers/incorrect entries etc.\n",
        "price_counts = listing_updated['price'].value_counts().sort_values(ascending=False)\n",
        "price_counts_df = price_counts.reset_index()\n",
        "price_counts_df.columns = ['price', 'count']\n",
        "\n",
        "price_counts_df_sorted = price_counts_df.sort_values(by='price', ascending=False)\n",
        "\n",
        "print(price_counts_df_sorted.head(20))\n",
        "print(price_counts_df_sorted.tail(20))"
      ]
    },
    {
      "cell_type": "code",
      "execution_count": null,
      "metadata": {
        "id": "mFYw2Oi9OD0i"
      },
      "outputs": [],
      "source": [
        "# analyse price outliers\n",
        "upper_threshold = 2500\n",
        "lower_threshold = 25\n",
        "\n",
        "filtered_listing = listing_updated[(listing_updated['price'] <= lower_threshold) | (listing_updated['price'] >= upper_threshold)]\n",
        "print(filtered_listing)"
      ]
    },
    {
      "cell_type": "code",
      "execution_count": null,
      "metadata": {
        "id": "CR8WQMEWQMU_"
      },
      "outputs": [],
      "source": [
        "# Clipping the prices to be within the specified range\n",
        "listing_updated['price'] = listing_updated['price'].clip(lower=lower_threshold, upper=upper_threshold)"
      ]
    },
    {
      "cell_type": "code",
      "execution_count": null,
      "metadata": {
        "id": "iWP1K2MqQ9mT"
      },
      "outputs": [],
      "source": [
        "# extract year from the date\n",
        "\n",
        "listing_updated['host_since'] = pd.to_datetime(listing_updated['host_since'],errors = 'coerce')\n",
        "listing_updated['host_since'] = listing_updated['host_since'].dt.year\n"
      ]
    },
    {
      "cell_type": "code",
      "execution_count": null,
      "metadata": {
        "id": "9uNYUSfZJnL2"
      },
      "outputs": [],
      "source": [
        "listing_updated.describe()"
      ]
    },
    {
      "cell_type": "code",
      "execution_count": null,
      "metadata": {
        "id": "sEBZvm42XT2Q"
      },
      "outputs": [],
      "source": [
        "listing_updated.isnull().sum()"
      ]
    },
    {
      "cell_type": "code",
      "execution_count": null,
      "metadata": {
        "id": "_6C-L5XZQ7YX"
      },
      "outputs": [],
      "source": [
        "# Looking at correlation matrix to identify some relations for imputing missing values\n",
        "# Correlation matrix\n",
        "numeric_cols = listing_updated.select_dtypes(include=['number']).columns\n",
        "correlation_matrix = listing_updated[numeric_cols].corr()\n",
        "\n",
        "# Plot the heatmap\n",
        "plt.figure(figsize=(20, 10))\n",
        "sns.heatmap(correlation_matrix, annot=True, cmap='coolwarm', fmt='.2f', linewidths=0.5)\n",
        "plt.title('Correlation Matrix Heatmap')\n",
        "plt.show()"
      ]
    },
    {
      "cell_type": "code",
      "execution_count": null,
      "metadata": {
        "id": "DjKuOgP2XcqW"
      },
      "outputs": [],
      "source": [
        "#Impute missing values based on the group median.\n",
        "def impute_by_group_median(df, group_columns, target_column):\n",
        "\n",
        "    group_median = df.groupby(group_columns)[target_column].median().reset_index()\n",
        "    group_median.rename(columns={target_column: f'median_{target_column}'}, inplace=True)\n",
        "    df = df.merge(group_median, on=group_columns, how='left')\n",
        "    df[target_column] = np.where(df[target_column].isnull(), df[f'median_{target_column}'], df[target_column])\n",
        "    return df.drop(columns=[f'median_{target_column}'])"
      ]
    },
    {
      "cell_type": "code",
      "execution_count": null,
      "metadata": {
        "id": "EIO20iYeYL4s"
      },
      "outputs": [],
      "source": [
        "# impute missing values\n",
        "listing_updated = impute_by_group_median(listing_updated,['accommodates','room_type','property_type'],'beds')\n",
        "listing_updated = impute_by_group_median(listing_updated,['accommodates','room_type','property_type','beds'],'bedrooms')\n",
        "listing_updated = impute_by_group_median(listing_updated,['accommodates','bedrooms','beds','room_type',],'bathrooms')\n",
        "listing_updated = impute_by_group_median(listing_updated,['host_is_superhost','host_since','instant_bookable'],'host_acceptance_rate')\n",
        "listing_updated = impute_by_group_median(listing_updated,['host_acceptance_rate'],'host_response_rate')\n"
      ]
    },
    {
      "cell_type": "code",
      "execution_count": null,
      "metadata": {
        "id": "EuVlxAbfU4zu"
      },
      "outputs": [],
      "source": [
        "listing_updated['host_response_rate'].fillna(0,inplace =True)"
      ]
    },
    {
      "cell_type": "code",
      "execution_count": null,
      "metadata": {
        "id": "w9rXxVrlVotL"
      },
      "outputs": [],
      "source": [
        "# Impute missing bathroom text\n",
        "# median bathrooms\n",
        "def impute_by_group_mode(df,group_columns,target_column):\n",
        "\n",
        "    group_mode = df.groupby(group_columns)[target_column].agg(lambda x:x.mode()[0]).reset_index()\n",
        "    group_mode.rename(columns={target_column: f'mode_{target_column}'}, inplace=True)\n",
        "    df = df.merge(group_mode, on=group_columns, how='left')\n",
        "    df[target_column] = np.where(df[target_column].isnull(), df[f'mode_{target_column}'], df[target_column])\n",
        "    df = df.drop(columns=[f'mode_{target_column}'])\n",
        "    return df\n",
        "\n",
        "# Check the result\n",
        "listing_updated = impute_by_group_mode(listing_updated,['accommodates', 'room_type', 'bedrooms','beds', 'bathrooms'],'bathrooms_text')\n",
        "listing_updated = impute_by_group_mode(listing_updated,['host_response_rate'],'host_response_time')"
      ]
    },
    {
      "cell_type": "code",
      "execution_count": null,
      "metadata": {
        "id": "4WpOwabeS4ZP"
      },
      "outputs": [],
      "source": [
        "listing_updated.isnull().sum()"
      ]
    },
    {
      "cell_type": "code",
      "execution_count": null,
      "metadata": {
        "id": "I00ZiCV8Tbc7"
      },
      "outputs": [],
      "source": [
        "# Categorical columns\n",
        "categorical_columns = listing_updated.select_dtypes(include=['object']).columns\n",
        "print(categorical_columns)"
      ]
    },
    {
      "cell_type": "code",
      "execution_count": null,
      "metadata": {
        "id": "JEJgE71dUTSo"
      },
      "outputs": [],
      "source": [
        "# Analyse the unique values of catgeorical coulmns\n",
        "\n",
        "def get_unique_values(df,cols):\n",
        "  for col in cols:\n",
        "    print('Unique Values for',col,df[col].unique())\n",
        "\n",
        "get_unique_values(listing_updated,categorical_columns)\n"
      ]
    },
    {
      "cell_type": "code",
      "execution_count": null,
      "metadata": {
        "id": "VnNyBVcQVTej"
      },
      "outputs": [],
      "source": [
        "# Grouping the property types into categories\n",
        "# Define a function to categorize property types\n",
        "def categorize_property_type(property_type):\n",
        "    if 'entire' in property_type.lower():\n",
        "        return 'Entire Place'\n",
        "    elif 'private room' in property_type.lower():\n",
        "        return 'Private Room'\n",
        "    elif 'shared room' in property_type.lower():\n",
        "        return 'Shared Room'\n",
        "    elif 'room in' in property_type.lower():\n",
        "        return 'Room in Building'\n",
        "    elif 'boat' in property_type.lower() or 'treehouse' in property_type.lower() or 'castle' in property_type.lower() or 'tower' in property_type.lower():\n",
        "        return 'Unique Stay'\n",
        "    else:\n",
        "        return 'Other'\n",
        "\n",
        "# Apply the function to the property_type column\n",
        "listing_updated['property_category'] = listing_updated['property_type'].apply(categorize_property_type)\n",
        "\n",
        "# Display the transformed column\n",
        "print(listing_updated[['property_type', 'property_category']].head())\n",
        "\n",
        "listing_updated['property_category'].unique()\n",
        "\n"
      ]
    },
    {
      "cell_type": "code",
      "execution_count": null,
      "metadata": {
        "id": "KGKXn-ZngQEK"
      },
      "outputs": [],
      "source": [
        "listing_updated.head()"
      ]
    },
    {
      "cell_type": "code",
      "source": [
        "listing_updated.describe()"
      ],
      "metadata": {
        "id": "mAZQaUH-tOOH"
      },
      "execution_count": null,
      "outputs": []
    },
    {
      "cell_type": "code",
      "execution_count": null,
      "metadata": {
        "id": "wenWnTjom0xq"
      },
      "outputs": [],
      "source": [
        "create_histogram(listing_updated,'price',bins=40,color='blue')\n"
      ]
    },
    {
      "cell_type": "code",
      "source": [
        "import matplotlib.pyplot as plt\n",
        "import matplotlib.ticker as mtick\n",
        "\n",
        "# Function to plot all categories normally\n",
        "def plot_categories(column):\n",
        "\n",
        "    # Create dynamic title\n",
        "    title = f\"Distribution of {column.replace('_', ' ').title()}\"\n",
        "\n",
        "    # Create plot with specified figure size\n",
        "    plt.figure(figsize=(14, 8))\n",
        "\n",
        "    # Plotting the categories\n",
        "    ax = listing_updated[column].value_counts().plot(kind='bar', color='teal')\n",
        "\n",
        "    # Set title and labels\n",
        "    plt.title(title)\n",
        "    plt.xlabel(column.replace('_', ' ').title())\n",
        "    plt.ylabel('Number of Listings')\n",
        "\n",
        "    # Rotate x-labels to horizontal\n",
        "    ax.set_xticklabels(ax.get_xticklabels(), rotation=0)\n",
        "\n",
        "    # Format y-axis labels as 'k' format\n",
        "    ax.yaxis.set_major_formatter(mtick.FuncFormatter(lambda x, _: f'{x/1000:.1f}k'))\n",
        "\n",
        "    # Show plot\n",
        "    plt.show()\n",
        "\n",
        "# Function to plot top 10 categories\n",
        "def plot_top_10_categories(column):\n",
        "    # Create dynamic title\n",
        "    title = f\"Top 10 {column.replace('_', ' ').title()} Distribution\"\n",
        "\n",
        "    # Create plot with specified figure size\n",
        "    plt.figure(figsize=(14, 8))\n",
        "\n",
        "    # Plotting the top 10 categories\n",
        "    ax = listing_updated[column].value_counts().nlargest(10).plot(kind='bar', color='teal')\n",
        "\n",
        "    # Set title and labels\n",
        "    plt.title(title)\n",
        "    plt.xlabel(column.replace('_', ' ').title())\n",
        "    plt.ylabel('Number of Listings')\n",
        "\n",
        "    # Rotate x-labels to horizontal\n",
        "    ax.set_xticklabels(ax.get_xticklabels(), rotation=0)\n",
        "\n",
        "    # Format y-axis labels as 'k' format\n",
        "    ax.yaxis.set_major_formatter(mtick.FuncFormatter(lambda x, _: f'{x/1000:.1f}k'))\n",
        "\n",
        "    # Show plot\n",
        "    plt.show()\n"
      ],
      "metadata": {
        "id": "MfwhpcBttDjQ"
      },
      "execution_count": null,
      "outputs": []
    },
    {
      "cell_type": "code",
      "source": [
        "plot_categories('host_response_time')\n"
      ],
      "metadata": {
        "id": "IWIudJUourG6"
      },
      "execution_count": null,
      "outputs": []
    },
    {
      "cell_type": "code",
      "source": [
        "plot_categories('host_verifications')\n"
      ],
      "metadata": {
        "id": "LsVcz_0vu2bj"
      },
      "execution_count": null,
      "outputs": []
    },
    {
      "cell_type": "code",
      "source": [
        "plot_categories('property_category')\n"
      ],
      "metadata": {
        "id": "xNKTVLWovIxs"
      },
      "execution_count": null,
      "outputs": []
    },
    {
      "cell_type": "code",
      "source": [
        "plot_categories('room_type')\n"
      ],
      "metadata": {
        "id": "cWPvtFkVvQIV"
      },
      "execution_count": null,
      "outputs": []
    },
    {
      "cell_type": "code",
      "source": [
        "plot_top_10_categories('neighbourhood_cleansed')\n"
      ],
      "metadata": {
        "id": "jp4taW0dvTUk"
      },
      "execution_count": null,
      "outputs": []
    },
    {
      "cell_type": "code",
      "source": [
        "\n",
        "\n",
        "# Define your custom hex color palette (you can add more or fewer colors as needed)\n",
        "teal_palette = ['#62BEB6', '#0B9A8D', '#077368', '#abdda4', '#e6f598']  # Teal and related colors\n",
        "\n",
        "plt.figure(figsize=(10, 6))\n",
        "listing_updated['neighbourhood_group_cleansed'].value_counts().plot(kind='pie', autopct='%1.1f%%', colors=teal_palette)\n",
        "plt.title('Listings by Neighborhood Group')\n",
        "plt.ylabel('')  # Hides default y-label for pie chart\n",
        "plt.show()\n"
      ],
      "metadata": {
        "id": "3BPkKlv4vcUX"
      },
      "execution_count": null,
      "outputs": []
    },
    {
      "cell_type": "code",
      "source": [
        "# Correlation matrix\n",
        "numeric_cols = listing_updated.select_dtypes(include=['number']).columns\n",
        "correlation_matrix = listing_updated[numeric_cols].corr()\n",
        "\n",
        "# Plot the heatmap\n",
        "plt.figure(figsize=(20, 10))\n",
        "sns.heatmap(correlation_matrix, annot=True, cmap='coolwarm', fmt='.2f', linewidths=0.5)\n",
        "plt.title('Correlation Matrix Heatmap')\n",
        "plt.show()"
      ],
      "metadata": {
        "id": "CJM4YS_otXR-"
      },
      "execution_count": null,
      "outputs": []
    },
    {
      "cell_type": "code",
      "execution_count": null,
      "metadata": {
        "id": "FBdXBjYWWWLM"
      },
      "outputs": [],
      "source": [
        "plt.figure(figsize = [16,9])\n",
        "sns.scatterplot(x='host_response_time', y='host_response_rate', data=listing_updated)\n",
        "\n",
        "plt.title('Host_Response_Time vs Host_Response_Rate')\n",
        "plt.show()\n",
        "\n"
      ]
    },
    {
      "cell_type": "code",
      "source": [
        "# Function for multivariate analysis of categories\n",
        "\n",
        "def plot_multi_categories(x,hue):\n",
        "  plt.figure(figsize = (14,8))\n",
        "  sns.boxplot(x=x, y = 'price', hue = hue, data = listing_updated, palette = teal_palette)\n",
        "  title = f\"Price Distribution by {x.replace('_', ' ').title()} and {hue.replace('_', ' ').title()}\"\n",
        "  plt.title(title)\n",
        "  plt.xlabel(x.replace('_', ' ').title())\n",
        "  plt.ylabel('Price')\n",
        "  plt.xticks(rotation=45)\n",
        "  plt.show()"
      ],
      "metadata": {
        "id": "7E4KjQhr1XnE"
      },
      "execution_count": null,
      "outputs": []
    },
    {
      "cell_type": "code",
      "source": [
        "plot_multi_categories('property_category','neighbourhood_group_cleansed')"
      ],
      "metadata": {
        "id": "YWVRpNYv21Jo"
      },
      "execution_count": null,
      "outputs": []
    },
    {
      "cell_type": "code",
      "source": [
        "plot_multi_categories('host_response_time','host_verifications')"
      ],
      "metadata": {
        "id": "Hk-nh5eF3Caw"
      },
      "execution_count": null,
      "outputs": []
    },
    {
      "cell_type": "code",
      "source": [
        "plot_multi_categories('neighbourhood_group_cleansed','room_type')"
      ],
      "metadata": {
        "id": "Q0rUyWpG3K3E"
      },
      "execution_count": null,
      "outputs": []
    },
    {
      "cell_type": "code",
      "source": [
        "plot_multi_categories('bedrooms','room_type')"
      ],
      "metadata": {
        "id": "VprmlXP09tlk"
      },
      "execution_count": null,
      "outputs": []
    },
    {
      "cell_type": "code",
      "source": [
        "# 1. How does host response time vary with property size (accommodates) and room type?\n",
        "g = sns.FacetGrid(listing_updated, col='room_type', hue='host_response_time', height=5, palette= teal_palette)\n",
        "g.map(sns.scatterplot, 'host_response_time', 'accommodates')\n",
        "g.add_legend()\n",
        "g.set_axis_labels('Host Response Time', 'Number of Guests')\n",
        "plt.show()"
      ],
      "metadata": {
        "id": "4ryDZmMASa2n"
      },
      "execution_count": null,
      "outputs": []
    },
    {
      "cell_type": "code",
      "source": [
        "sns.pairplot(listing_updated, vars=['price', 'number_of_reviews'], hue='host_is_superhost', kind='scatter', height=3)\n",
        "plt.show()\n"
      ],
      "metadata": {
        "id": "lY0Vtcu0So6X"
      },
      "execution_count": null,
      "outputs": []
    },
    {
      "cell_type": "code",
      "source": [
        "#teal_palette = ['#62BEB6', '#0B9A8D', '#077368', '#abdda4', '#e6f598']  # Teal and related colors\n",
        "custom_palette = {0.0: '#e6f598', 1.0: '#62BEB6', 2.0:'#077368'}\n",
        "plt.figure(figsize=(12, 8))\n",
        "sns.scatterplot(x='host_since', y='price', hue='host_is_superhost', data=listing_updated, palette= custom_palette)\n",
        "plt.title('Price vs. Host Experience (Superhost Status)')\n",
        "plt.ylabel('Price')\n",
        "plt.xlabel('Host Since (Year)')\n",
        "plt.show()\n"
      ],
      "metadata": {
        "id": "fTb3WmA0XHMT"
      },
      "execution_count": null,
      "outputs": []
    },
    {
      "cell_type": "code",
      "source": [
        "import folium\n",
        "from folium.plugins import MarkerCluster\n",
        "\n",
        "# Create a base map centered around New York City\n",
        "m = folium.Map(location=[40.7128, -74.0060], zoom_start=11)\n",
        "\n",
        "# Create a marker cluster object\n",
        "marker_cluster = MarkerCluster().add_to(m)\n",
        "\n",
        "# Loop through each listing and plot it on the map\n",
        "for index, row in listing_updated.iterrows():\n",
        "    folium.CircleMarker(\n",
        "        location=[row['latitude'], row['longitude']],\n",
        "        radius=row['host_listings_count'],  # Marker size based on host's number of listings\n",
        "        popup=f\"Price: ${row['price']}<br>Host Listings: {row['host_listings_count']}<br>Neighborhood: {row['neighbourhood_cleansed']}\",\n",
        "        color='blue' if row['price'] < 100 else 'green' if row['price'] < 500 else 'red',  # Color based on price range\n",
        "        fill=True,\n",
        "        fill_color='blue' if row['price'] < 100 else 'green' if row['price'] < 500 else 'red',\n",
        "        fill_opacity=0.6\n",
        "    ).add_to(marker_cluster)\n",
        "\n",
        "# Show the map inline\n",
        "m\n"
      ],
      "metadata": {
        "id": "59Dds2ZmkF3x"
      },
      "execution_count": null,
      "outputs": []
    },
    {
      "cell_type": "code",
      "source": [
        "\n",
        "\n",
        "# Filter the dataset to remove rows with missing coordinates or price\n",
        "filtered_df = listing_updated.dropna(subset=['latitude', 'longitude', 'price'])\n",
        "\n",
        "# Set the figure size for the map\n",
        "plt.figure(figsize=(10, 8))\n",
        "\n",
        "# Plot a scatter plot with latitudes and longitudes\n",
        "# Color the dots based on price ranges and use small dots for simplicity\n",
        "plt.scatter(\n",
        "    filtered_df['longitude'], filtered_df['latitude'],\n",
        "    c=filtered_df['price'], s=10, cmap='viridis', alpha=0.6\n",
        ")\n",
        "\n",
        "# Add labels and title\n",
        "plt.title('Airbnb Listings in NYC: Price Distribution by Location')\n",
        "plt.xlabel('Longitude')\n",
        "plt.ylabel('Latitude')\n",
        "\n",
        "# Add a color bar to show the price scale\n",
        "plt.colorbar(label='Price ($)')\n",
        "\n",
        "# Show the plot\n",
        "plt.show()\n"
      ],
      "metadata": {
        "id": "RF4e1wDjk76c"
      },
      "execution_count": null,
      "outputs": []
    }
  ],
  "metadata": {
    "colab": {
      "provenance": []
    },
    "kernelspec": {
      "display_name": "Python 3",
      "name": "python3"
    },
    "language_info": {
      "name": "python"
    }
  },
  "nbformat": 4,
  "nbformat_minor": 0
}